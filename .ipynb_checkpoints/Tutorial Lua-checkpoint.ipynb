{
 "cells": [
  {
   "cell_type": "code",
   "execution_count": 26,
   "id": "818ff760",
   "metadata": {},
   "outputs": [
    {
     "name": "stdout",
     "output_type": "stream",
     "text": [
      "string\n",
      "number\n",
      "number\n",
      "function\n",
      "boolean\n",
      "nil\n"
     ]
    }
   ],
   "source": [
    "--Tipos e Valores\n",
    "--Lua é uma linguagem de tipagem dinâmica o que implica que cada valor identifica seu prórpio tipo.\n",
    "\n",
    "a = \"Hello World!\"\n",
    "print(type(a))\n",
    "a = 10\n",
    "print(type(a))\n",
    "a = 10.9\n",
    "print(type(a))\n",
    "a = function()  end\n",
    "print(type(a))\n",
    "a = false\n",
    "print(type(a))\n",
    "a = nil\n",
    "print(type(a))"
   ]
  },
  {
   "cell_type": "code",
   "execution_count": 27,
   "id": "b5984769",
   "metadata": {},
   "outputs": [
    {
     "name": "stdout",
     "output_type": "stream",
     "text": [
      "nil\n"
     ]
    }
   ],
   "source": [
    "--nil: é um tipo importante, pois nil se diferencia de qualquer outro valor \n",
    "--podendo ser usado para indicar um comportamento excepcional de uma função, por exemplo.\n",
    "--Além disso, toda variável não definida, em Lua, possui, por padrão, o valor nil.\n",
    "print(b)"
   ]
  },
  {
   "cell_type": "code",
   "execution_count": 28,
   "id": "a53c4949",
   "metadata": {},
   "outputs": [
    {
     "name": "stdout",
     "output_type": "stream",
     "text": [
      "number\n",
      "number\n"
     ]
    }
   ],
   "source": [
    "--number: é um tipo em lua que representa os números reais (números de ponto flutuante),\n",
    "--não existindo representação para os númceros inteiros.\n",
    "a = 1000\n",
    "print(type(a))\n",
    "a = 10.9\n",
    "print(type(a))"
   ]
  },
  {
   "cell_type": "code",
   "execution_count": 29,
   "id": "e8960dfd",
   "metadata": {},
   "outputs": [
    {
     "name": "stdout",
     "output_type": "stream",
     "text": [
      "0.00157\n",
      "2000\n",
      "4095\n"
     ]
    }
   ],
   "source": [
    "--Outras formas numéricas\n",
    "a = 1.57e-3\n",
    "print(a)\n",
    "a = 2E3\n",
    "print(a)\n",
    "a = 0xfff\n",
    "print(a)"
   ]
  },
  {
   "cell_type": "code",
   "execution_count": 40,
   "id": "61ef672b",
   "metadata": {},
   "outputs": [
    {
     "name": "stdout",
     "output_type": "stream",
     "text": [
      "Oi mundo!\n",
      "9\n"
     ]
    }
   ],
   "source": [
    "--Strings\n",
    "print(\"Oi mundo!\")\n",
    "print(#\"Oi Mundo!\")\n",
    "a = \"Oi mundo!\""
   ]
  },
  {
   "cell_type": "code",
   "execution_count": 37,
   "id": "74a1f7e1",
   "metadata": {},
   "outputs": [
    {
     "ename": "n/a",
     "evalue": "(ilua):15: attempt to call global 'write' (a nil value)",
     "output_type": "error",
     "traceback": [
      "(ilua):15: attempt to call global 'write' (a nil value)",
      "stack traceback:",
      "\t(ilua):15: in main chunk",
      "\t[C]: in function 'xpcall'",
      "\t...e/.local/lib/python3.8/site-packages/ilua/interp.lua:65: in function 'handle_execute'",
      "\t...e/.local/lib/python3.8/site-packages/ilua/interp.lua:162: in main chunk",
      "\t[C]: ?"
     ]
    }
   ],
   "source": [
    "--Long String (Voltar)\n",
    "\n",
    "a=[[    \n",
    "    <html>\n",
    "      <head>\n",
    "        <meta charset=\"utf-8\">\n",
    "        <title>Minha página de teste</title>\n",
    "      </head>\n",
    "      <body>\n",
    "       \n",
    "      </body>\n",
    "    </html>\n",
    "]]\n",
    "\n",
    "write(a)"
   ]
  },
  {
   "cell_type": "code",
   "execution_count": null,
   "id": "8f966bcc",
   "metadata": {},
   "outputs": [],
   "source": []
  }
 ],
 "metadata": {
  "kernelspec": {
   "display_name": "Lua",
   "language": "lua",
   "name": "lua"
  },
  "language_info": {
   "file_extension": ".lua",
   "mimetype": "text/x-lua",
   "name": "lua",
   "version": "5.1"
  }
 },
 "nbformat": 4,
 "nbformat_minor": 5
}
